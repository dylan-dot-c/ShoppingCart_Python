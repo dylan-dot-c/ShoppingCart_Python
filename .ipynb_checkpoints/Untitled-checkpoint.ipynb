{
 "cells": [
  {
   "cell_type": "markdown",
   "id": "618a352b",
   "metadata": {},
   "source": [
    "Build a shopping cart program with the following capabilities:\n",
    "\n",
    "1) Takes in an input\n",
    "2) Stores user input into a dictionary or list\n",
    "3) The User can add or delete items\n",
    "4) The User can see current shopping list\n",
    "5) The program Loops until user 'quits'\n",
    "6) Upon quiting the program, prints out a receipt of the items with total and quantity."
   ]
  },
  {
   "cell_type": "code",
   "execution_count": 44,
   "id": "a6afd178",
   "metadata": {},
   "outputs": [],
   "source": [
    "from IPython.display import clear_output\n",
    "import time\n",
    "def showOptions():\n",
    "    options = [\n",
    "        \"1. Add New Item To Shopping List\",\n",
    "        \"2. Update Item Amount In Shopping List\",\n",
    "        \"3. View All Items In Shopping List\",\n",
    "        \"4. Delete An Item In Shopping List\",\n",
    "        \"5. Clear Shopping List\",\n",
    "        \"6. Clear Output\",\n",
    "        \"7. Leave and print Shopping List.\",\n",
    "    ]\n",
    "    [print(\"\\t\" + option) for option in options]\n",
    "    choice = input(\"Enter A value or press ENTER TO LEAVE: \")\n",
    "    return choice\n",
    "\n",
    "\n",
    "def AddToCart():\n",
    "    name = input(\"Enter name of Item: \")\n",
    "    quantity = int(input(\"Enter quantity: \"))\n",
    "    price = float(input(f\"Enter Price of {name}: \"))\n",
    "    newItem = {\"name\": name, \"price\": price, \"quantity\": quantity, \"total\": round(quantity*price, 2)}\n",
    "    shoppingCart[name] = newItem\n",
    "#     print(shoppingCart)\n",
    "\n",
    "\n",
    "def UpdateCount():\n",
    "    name = input(\"Enter name of Item: \")\n",
    "    if name in shoppingCart:\n",
    "        print(\"Item Found!\")\n",
    "        newQuantity = int(input(\"Enter new quantity: \"))\n",
    "        shoppingCart[name][\"quantity\"] = newQuantity\n",
    "        print(f\"Quantity has been Updated to {newQuantity}\")\n",
    "    else:\n",
    "        itemNotFound()\n",
    "#     print(shoppingCart)\n",
    "\n",
    "\n",
    "def itemNotFound():\n",
    "    print(\"Item is not in shopping cart! Please try again later\")\n",
    "    \n",
    "def viewCart():\n",
    "    if len(shoppingCart) == 0:\n",
    "        print(\"\\tShopping list is empty!!\")\n",
    "        return\n",
    "    total = 0\n",
    "    print(\"=\"*20)\n",
    "#     print(shoppingCart)\n",
    "    for key, value in shoppingCart.items():\n",
    "        total += value.get(\"total\", 0)\n",
    "        print(f'''\\t{key}\n",
    "        \\tPrice:     {value.get(\"price\", \"Undefined\")}\n",
    "        \\tQuantity:  {value.get(\"quantity\", \"Undefined\")}\n",
    "        \\tTotal:     ${value.get(\"total\", \"0\")}''')\n",
    "        time.sleep(1)\n",
    "    print(\"=\"*10)\n",
    "    print(f\"The total of the list is: {total}\")\n",
    "    print(\"=\"*10)\n",
    "        \n",
    "def deleteItem():\n",
    "    name = input(\"Enter name of Item: \")\n",
    "    if name in shoppingCart:\n",
    "        del shoppingCart[name]\n",
    "        print(f\"{name} has just been removed from the shopping cart\")\n",
    "        \n",
    "def clearList():\n",
    "    choice = input(f\"***ARE YOU SURE YOU WANT TO CLEAR YOUR LIST? IT HAS {len(shoppingCart)} items! TYPE 'CLEAR' to continue press ENTER to cancel\")\n",
    "    if choice == \"CLEAR\":\n",
    "        print(\"Clearing list...\")\n",
    "        time.sleep(2)\n",
    "        print(\"Shopping LIST has been CLEARED!!!!\")\n",
    "        shoppingCart.clear()\n",
    "    else:\n",
    "        print(\"List not cleared. You are SAFE!!\")\n",
    "\n",
    "inputDict = {\"1\": AddToCart, \"2\": UpdateCount, \"3\": viewCart, \"4\": deleteItem, \"5\": clearList, \"6\": clear_output}\n",
    "\n",
    "\n",
    "def main():\n",
    "    shoppingCart = {}\n",
    "    while True:\n",
    "        print(f\"{'='*10}Welcome to BESTMART!{'='*10}\")\n",
    "        print(\"\\tHow can I help you today?\")\n",
    "        choice = showOptions()\n",
    "        if choice == \"\" or choice == \"7\":\n",
    "            break\n",
    "        \n",
    "        else:\n",
    "            inputDict[choice]()\n",
    "    \n",
    "    print(\"Printing Shopping List...\")\n",
    "    time.sleep(2)\n",
    "    viewCart()\n",
    "    \n",
    "    bye = \"GOODBYE!! thanks for shopping\"\n",
    "    for c in bye:\n",
    "        print(c, end=\"\")\n",
    "        time.sleep(.2)\n",
    "    "
   ]
  },
  {
   "cell_type": "code",
   "execution_count": 31,
   "id": "2d5eab1d",
   "metadata": {},
   "outputs": [
    {
     "name": "stdout",
     "output_type": "stream",
     "text": [
      "\u001b[31m\"red\"\u001b[0m\n"
     ]
    }
   ],
   "source": [
    "\n",
    "\n",
    "\n",
    "\n",
    "print('\\x1b[31m\"red\"\\x1b[0m')"
   ]
  },
  {
   "cell_type": "code",
   "execution_count": null,
   "id": "3893e11d",
   "metadata": {},
   "outputs": [
    {
     "name": "stdout",
     "output_type": "stream",
     "text": [
      "==========Welcome to BESTMART!==========\n",
      "\tHow can I help you today?\n",
      "\t1. Add New Item To Shopping List\n",
      "\t2. Update Item Amount In Shopping List\n",
      "\t3. View All Items In Shopping List\n",
      "\t4. Delete An Item In Shopping List\n",
      "\t5. Clear Shopping List\n",
      "\t6. Clear Output\n",
      "\t7. Leave and print Shopping List.\n",
      "Enter A value or press ENTER TO LEAVE: 3\n",
      "\tShopping list is empty!!\n",
      "==========Welcome to BESTMART!==========\n",
      "\tHow can I help you today?\n",
      "\t1. Add New Item To Shopping List\n",
      "\t2. Update Item Amount In Shopping List\n",
      "\t3. View All Items In Shopping List\n",
      "\t4. Delete An Item In Shopping List\n",
      "\t5. Clear Shopping List\n",
      "\t6. Clear Output\n",
      "\t7. Leave and print Shopping List.\n"
     ]
    }
   ],
   "source": [
    "main()\n"
   ]
  },
  {
   "cell_type": "markdown",
   "id": "fe5d2a07",
   "metadata": {},
   "source": [
    ".65## "
   ]
  }
 ],
 "metadata": {
  "kernelspec": {
   "display_name": "Python 3 (ipykernel)",
   "language": "python",
   "name": "python3"
  },
  "language_info": {
   "codemirror_mode": {
    "name": "ipython",
    "version": 3
   },
   "file_extension": ".py",
   "mimetype": "text/x-python",
   "name": "python",
   "nbconvert_exporter": "python",
   "pygments_lexer": "ipython3",
   "version": "3.11.4"
  }
 },
 "nbformat": 4,
 "nbformat_minor": 5
}

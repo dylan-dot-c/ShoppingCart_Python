{
 "cells": [
  {
   "cell_type": "markdown",
   "id": "618a352b",
   "metadata": {},
   "source": [
    "Build a shopping cart program with the following capabilities:\n",
    "\n",
    "1) Takes in an input\n",
    "2) Stores user input into a dictionary or list\n",
    "3) The User can add or delete items\n",
    "4) The User can see current shopping list\n",
    "5) The program Loops until user 'quits'\n",
    "6) Upon quiting the program, prints out a receipt of the items with total and quantity."
   ]
  },
  {
   "cell_type": "code",
   "execution_count": 1,
   "id": "a6afd178",
   "metadata": {},
   "outputs": [],
   "source": [
    "from IPython.display import clear_output\n",
    "import time\n",
    "def showOptions():\n",
    "    options = [\n",
    "        \"1. Add New Item To Shopping List\",\n",
    "        \"2. Update Item Amount In Shopping List\",\n",
    "        \"3. View All Items In Shopping List\",\n",
    "        \"4. Delete An Item In Shopping List\",\n",
    "        \"5. Clear Shopping List\",\n",
    "        \"6. Clear Output\",\n",
    "        \"7. Leave and print Shopping List.\",\n",
    "    ]\n",
    "    [print(\"\\t\" + option) for option in options]\n",
    "    choice = input(\"Enter A value or press ENTER TO LEAVE: \")\n",
    "    return choice\n",
    "\n",
    "\n",
    "def AddToCart():\n",
    "    name = input(\"Enter name of Item: \")\n",
    "    quantity = int(input(\"Enter quantity: \"))\n",
    "    price = float(input(f\"Enter Price of {name}: \"))\n",
    "    newItem = {\"name\": name, \"price\": price, \"quantity\": quantity, \"total\": round(quantity*price, 2)}\n",
    "    shoppingCart[name] = newItem\n",
    "#     print(shoppingCart)\n",
    "\n",
    "\n",
    "def UpdateCount():\n",
    "    name = input(\"Enter name of Item: \")\n",
    "    if name in shoppingCart:\n",
    "        print(\"Item Found!\")\n",
    "        newQuantity = int(input(\"Enter new quantity: \"))\n",
    "        shoppingCart[name][\"quantity\"] = newQuantity\n",
    "        print(f\"Quantity has been Updated to {newQuantity}\")\n",
    "    else:\n",
    "        itemNotFound()\n",
    "#     print(shoppingCart)\n",
    "\n",
    "\n",
    "def itemNotFound():\n",
    "    print(\"Item is not in shopping cart! Please try again later\")\n",
    "    \n",
    "def viewCart():\n",
    "    if len(shoppingCart) == 0:\n",
    "        print(\"\\tShopping list is empty!!\")\n",
    "        return\n",
    "    total = 0\n",
    "    print(\"=\"*20)\n",
    "#     print(shoppingCart)\n",
    "    for key, value in shoppingCart.items():\n",
    "        total += value.get(\"total\", 0)\n",
    "        print(f'''\\t{key}\n",
    "        \\tPrice:     {value.get(\"price\", \"Undefined\")}\n",
    "        \\tQuantity:  {value.get(\"quantity\", \"Undefined\")}\n",
    "        \\tTotal:     ${value.get(\"total\", \"0\")}''')\n",
    "        time.sleep(1)\n",
    "    print(\"=\"*10)\n",
    "    print(f\"The total of the list is: {total}\")\n",
    "    print(\"=\"*10)\n",
    "        \n",
    "def deleteItem():\n",
    "    name = input(\"Enter name of Item: \")\n",
    "    if name in shoppingCart:\n",
    "        del shoppingCart[name]\n",
    "        print(f\"{name} has just been removed from the shopping cart\")\n",
    "        \n",
    "def clearList():\n",
    "    choice = input(f\"***ARE YOU SURE YOU WANT TO CLEAR YOUR LIST? IT HAS {len(shoppingCart)} items! TYPE 'CLEAR' to continue press ENTER to cancel\")\n",
    "    if choice == \"CLEAR\":\n",
    "        print(\"Clearing list...\")\n",
    "        time.sleep(2)\n",
    "        print(\"Shopping LIST has been CLEARED!!!!\")\n",
    "        shoppingCart.clear()\n",
    "    else:\n",
    "        print(\"List not cleared. You are SAFE!!\")\n",
    "\n",
    "inputDict = {\"1\": AddToCart, \"2\": UpdateCount, \"3\": viewCart, \"4\": deleteItem, \"5\": clearList, \"6\": clear_output}\n",
    "shoppingCart = {}\n",
    "\n",
    "def main():\n",
    "    while True:\n",
    "        print(f\"{'='*10}Welcome to BESTMART!{'='*10}\")\n",
    "        print(\"\\tHow can I help you today?\")\n",
    "        choice = showOptions()\n",
    "        if choice == \"\" or choice == \"7\":\n",
    "            break\n",
    "        \n",
    "        else:\n",
    "            inputDict[choice]()\n",
    "    \n",
    "    print(\"Printing Shopping List...\")\n",
    "    time.sleep(2)\n",
    "    viewCart()\n",
    "    \n",
    "    bye = \"GOODBYE!! thanks for shopping\"\n",
    "    for c in bye:\n",
    "        print(c, end=\"\")\n",
    "        time.sleep(.2)\n",
    "    "
   ]
  },
  {
   "cell_type": "code",
   "execution_count": 31,
   "id": "2d5eab1d",
   "metadata": {},
   "outputs": [
    {
     "name": "stdout",
     "output_type": "stream",
     "text": [
      "\u001b[31m\"red\"\u001b[0m\n"
     ]
    }
   ],
   "source": [
    "\n",
    "\n",
    "\n",
    "\n",
    "print('\\x1b[31m\"red\"\\x1b[0m')"
   ]
  },
  {
   "cell_type": "code",
   "execution_count": 2,
   "id": "3893e11d",
   "metadata": {},
   "outputs": [
    {
     "name": "stdout",
     "output_type": "stream",
     "text": [
      "==========Welcome to BESTMART!==========\n",
      "\tHow can I help you today?\n",
      "\t1. Add New Item To Shopping List\n",
      "\t2. Update Item Amount In Shopping List\n",
      "\t3. View All Items In Shopping List\n",
      "\t4. Delete An Item In Shopping List\n",
      "\t5. Clear Shopping List\n",
      "\t6. Clear Output\n",
      "\t7. Leave and print Shopping List.\n",
      "Enter A value or press ENTER TO LEAVE: 1\n",
      "Enter name of Item: Apple\n",
      "Enter quantity: 12\n",
      "Enter Price of Apple: 4.3\n"
     ]
    },
    {
     "ename": "NameError",
     "evalue": "name 'shoppingCart' is not defined",
     "output_type": "error",
     "traceback": [
      "\u001b[1;31m---------------------------------------------------------------------------\u001b[0m",
      "\u001b[1;31mNameError\u001b[0m                                 Traceback (most recent call last)",
      "Cell \u001b[1;32mIn[2], line 1\u001b[0m\n\u001b[1;32m----> 1\u001b[0m main()\n",
      "Cell \u001b[1;32mIn[1], line 89\u001b[0m, in \u001b[0;36mmain\u001b[1;34m()\u001b[0m\n\u001b[0;32m     86\u001b[0m         \u001b[38;5;28;01mbreak\u001b[39;00m\n\u001b[0;32m     88\u001b[0m     \u001b[38;5;28;01melse\u001b[39;00m:\n\u001b[1;32m---> 89\u001b[0m         inputDict[choice]()\n\u001b[0;32m     91\u001b[0m \u001b[38;5;28mprint\u001b[39m(\u001b[38;5;124m\"\u001b[39m\u001b[38;5;124mPrinting Shopping List...\u001b[39m\u001b[38;5;124m\"\u001b[39m)\n\u001b[0;32m     92\u001b[0m time\u001b[38;5;241m.\u001b[39msleep(\u001b[38;5;241m2\u001b[39m)\n",
      "Cell \u001b[1;32mIn[1], line 23\u001b[0m, in \u001b[0;36mAddToCart\u001b[1;34m()\u001b[0m\n\u001b[0;32m     21\u001b[0m price \u001b[38;5;241m=\u001b[39m \u001b[38;5;28mfloat\u001b[39m(\u001b[38;5;28minput\u001b[39m(\u001b[38;5;124mf\u001b[39m\u001b[38;5;124m\"\u001b[39m\u001b[38;5;124mEnter Price of \u001b[39m\u001b[38;5;132;01m{\u001b[39;00mname\u001b[38;5;132;01m}\u001b[39;00m\u001b[38;5;124m: \u001b[39m\u001b[38;5;124m\"\u001b[39m))\n\u001b[0;32m     22\u001b[0m newItem \u001b[38;5;241m=\u001b[39m {\u001b[38;5;124m\"\u001b[39m\u001b[38;5;124mname\u001b[39m\u001b[38;5;124m\"\u001b[39m: name, \u001b[38;5;124m\"\u001b[39m\u001b[38;5;124mprice\u001b[39m\u001b[38;5;124m\"\u001b[39m: price, \u001b[38;5;124m\"\u001b[39m\u001b[38;5;124mquantity\u001b[39m\u001b[38;5;124m\"\u001b[39m: quantity, \u001b[38;5;124m\"\u001b[39m\u001b[38;5;124mtotal\u001b[39m\u001b[38;5;124m\"\u001b[39m: \u001b[38;5;28mround\u001b[39m(quantity\u001b[38;5;241m*\u001b[39mprice, \u001b[38;5;241m2\u001b[39m)}\n\u001b[1;32m---> 23\u001b[0m shoppingCart[name] \u001b[38;5;241m=\u001b[39m newItem\n",
      "\u001b[1;31mNameError\u001b[0m: name 'shoppingCart' is not defined"
     ]
    }
   ],
   "source": [
    "main()\n"
   ]
  },
  {
   "cell_type": "markdown",
   "id": "3366d4d3",
   "metadata": {},
   "source": [
    ".65## "
   ]
  }
 ],
 "metadata": {
  "kernelspec": {
   "display_name": "Python 3 (ipykernel)",
   "language": "python",
   "name": "python3"
  },
  "language_info": {
   "codemirror_mode": {
    "name": "ipython",
    "version": 3
   },
   "file_extension": ".py",
   "mimetype": "text/x-python",
   "name": "python",
   "nbconvert_exporter": "python",
   "pygments_lexer": "ipython3",
   "version": "3.11.4"
  }
 },
 "nbformat": 4,
 "nbformat_minor": 5
}
